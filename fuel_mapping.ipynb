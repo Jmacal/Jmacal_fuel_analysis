{
 "cells": [
  {
   "cell_type": "code",
   "execution_count": 1,
   "id": "3031d7fc",
   "metadata": {},
   "outputs": [],
   "source": [
    "import folium"
   ]
  },
  {
   "cell_type": "code",
   "execution_count": 2,
   "id": "ae9c979c",
   "metadata": {},
   "outputs": [],
   "source": [
    "m = folium.Map(\n",
    "    location=(45.5236, -122.6750),\n",
    "    control_scale=False,\n",
    "    zoom_control=False,\n",
    "    )"
   ]
  },
  {
   "cell_type": "code",
   "execution_count": 3,
   "id": "8251ea6a",
   "metadata": {},
   "outputs": [],
   "source": [
    "import os\n",
    "import pandas as pd\n",
    "import folium\n",
    "from folium import plugins\n",
    "\n",
    "data_dir = '/home/bucher/Documents/GitHub/fuel_analysis/data/fuel_data'\n",
    "\n",
    "for data_file in os.listdir(data_dir):\n",
    "    df = pd.read_csv(os.path.join(data_dir, data_file))\n",
    "\n",
    "    longitudes = df['Longitude'].values\n",
    "    latitudes = df['Latitude'].values\n",
    "    times = df['time'].values\n",
    "\n",
    "    lines = [{\n",
    "        'coordinates': [[longitudes[i], latitudes[i]], [longitudes[i+1], latitudes[i+1]]],\n",
    "        'dates': [times[i], times[i+1]],\n",
    "        'color': 'red',\n",
    "        \"weight\": 10,\n",
    "    } for i in range(len(longitudes)-1)]\n",
    "\n",
    "    m  = folium.Map(location=[0, 0], zoom_start=16)\n",
    "\n",
    "\n",
    "    features = [\n",
    "        {\n",
    "            \"type\": \"Feature\",\n",
    "            \"geometry\": {\n",
    "                \"type\": \"LineString\",\n",
    "                \"coordinates\": line[\"coordinates\"],\n",
    "            },\n",
    "            \"properties\": {\n",
    "                \"times\": line[\"dates\"],\n",
    "                \"style\": {\n",
    "                    \"color\": line[\"color\"],\n",
    "                    \"weight\": line[\"weight\"] if \"weight\" in line else 5,\n",
    "                },\n",
    "            },\n",
    "        }\n",
    "        for line in lines\n",
    "    ]\n",
    "\n",
    "    plugins.TimestampedGeoJson(\n",
    "        {\n",
    "            \"type\": \"FeatureCollection\",\n",
    "            \"features\": features,\n",
    "        },\n",
    "        period=\"PT1M\",\n",
    "        add_last_point=True,\n",
    "    ).add_to(m)\n",
    "    m\n",
    "\n",
    "    exit()"
   ]
  }
 ],
 "metadata": {
  "kernelspec": {
   "display_name": "Python 3 (ipykernel)",
   "language": "python",
   "name": "python3"
  },
  "language_info": {
   "codemirror_mode": {
    "name": "ipython",
    "version": 3
   },
   "file_extension": ".py",
   "mimetype": "text/x-python",
   "name": "python",
   "nbconvert_exporter": "python",
   "pygments_lexer": "ipython3",
   "version": "3.11.5"
  }
 },
 "nbformat": 4,
 "nbformat_minor": 5
}
